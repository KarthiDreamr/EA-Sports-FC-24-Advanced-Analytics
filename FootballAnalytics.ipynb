{
 "cells": [
  {
   "cell_type": "markdown",
   "id": "879c2727",
   "metadata": {},
   "source": [
    "Create spark session with python 3.10.13"
   ]
  },
  {
   "cell_type": "code",
   "execution_count": 9,
   "id": "114f13d3-7b57-48df-bcf8-12add713e026",
   "metadata": {},
   "outputs": [
    {
     "name": "stderr",
     "output_type": "stream",
     "text": [
      "Setting default log level to \"WARN\".\n",
      "To adjust logging level use sc.setLogLevel(newLevel). For SparkR, use setLogLevel(newLevel).\n",
      "24/04/14 22:47:37 WARN NativeCodeLoader: Unable to load native-hadoop library for your platform... using builtin-java classes where applicable\n",
      "24/04/14 22:47:38 WARN Utils: Service 'SparkUI' could not bind on port 4040. Attempting port 4041.\n"
     ]
    }
   ],
   "source": [
    "from pyspark.sql import SparkSession\n",
    "spark = SparkSession.builder.getOrCreate()"
   ]
  },
  {
   "cell_type": "markdown",
   "id": "6ab3458a",
   "metadata": {},
   "source": [
    "Imported CSV file"
   ]
  },
  {
   "cell_type": "code",
   "execution_count": 10,
   "id": "bf3e75f0-4fdf-48e0-8600-fd1be9fa7561",
   "metadata": {},
   "outputs": [],
   "source": [
    "original_df = spark.read.format(\"csv\").option(\"header\", \"true\").load(\"/home/karthi/Documents/Spark/BDA_File.csv\")"
   ]
  },
  {
   "cell_type": "markdown",
   "id": "fccda9ca",
   "metadata": {},
   "source": [
    "Ensure CSV imported correctly"
   ]
  },
  {
   "cell_type": "code",
   "execution_count": 11,
   "id": "3b8636d2-bade-49ae-b70d-8c032d9e5611",
   "metadata": {},
   "outputs": [
    {
     "name": "stderr",
     "output_type": "stream",
     "text": [
      "24/04/14 22:47:52 WARN SparkStringUtils: Truncated the string representation of a plan since it was too large. This behavior can be adjusted by setting 'spark.sql.debug.maxToStringFields'.\n"
     ]
    },
    {
     "name": "stdout",
     "output_type": "stream",
     "text": [
      "+--------------+----------------+-------+---------+---+------------+-------------------+---------+-------------------+--------------+----------------+--------------+---------+-----------+------------------------+-------------+----+--------+-------+---------+---------+------+------------------+--------------------+-------------------+-----------------------+--------------------+-----------------+\n",
      "|    short_name|player_positions|overall|potential|age|club_team_id|          club_name|league_id|        league_name|nationality_id|nationality_name|preferred_foot|weak_foot|skill_moves|international_reputation|    work_rate|pace|shooting|passing|dribbling|defending|physic|goalkeeping_diving|goalkeeping_handling|goalkeeping_kicking|goalkeeping_positioning|goalkeeping_reflexes|goalkeeping_speed|\n",
      "+--------------+----------------+-------+---------+---+------------+-------------------+---------+-------------------+--------------+----------------+--------------+---------+-----------+------------------------+-------------+----+--------+-------+---------+---------+------+------------------+--------------------+-------------------+-----------------------+--------------------+-----------------+\n",
      "|    K. MbappÃ©|          ST, LW|     91|       94| 24|          73|Paris Saint Germain|       16|            Ligue 1|            18|          France|         Right|        4|          5|                       5|     High/Low|  97|      90|     80|       92|       36|    78|                13|                   5|                  7|                     11|                   6|             NULL|\n",
      "|    E. Haaland|              ST|     91|       94| 22|          10|    Manchester City|       13|     Premier League|            36|          Norway|          Left|        3|          3|                       5|  High/Medium|  89|      93|     66|       80|       45|    88|                 7|                  14|                 13|                     11|                   7|             NULL|\n",
      "|  K. De Bruyne|         CM, CAM|     91|       91| 32|          10|    Manchester City|       13|     Premier League|             7|         Belgium|         Right|        5|          4|                       5|  High/Medium|  72|      88|     94|       87|       65|    78|                15|                  13|                  5|                     10|                  13|             NULL|\n",
      "|      L. Messi|         CF, CAM|     90|       90| 36|      112893|        Inter Miami|       39|Major League Soccer|            52|       Argentina|          Left|        4|          4|                       5|      Low/Low|  80|      87|     90|       94|       33|    64|                 6|                  11|                 15|                     14|                   8|             NULL|\n",
      "|    K. Benzema|          CF, ST|     90|       90| 35|         607|         Al Ittihad|      350|         Pro League|            18|          France|         Right|        4|          4|                       5|Medium/Medium|  79|      88|     83|       87|       39|    78|                13|                  11|                  5|                      5|                   7|             NULL|\n",
      "|R. Lewandowski|              ST|     90|       90| 34|         241|       FC Barcelona|       53|            La Liga|            37|          Poland|         Right|        4|          4|                       5|  High/Medium|  75|      91|     80|       87|       44|    84|                15|                   6|                 12|                      8|                  10|             NULL|\n",
      "|   T. Courtois|              GK|     90|       90| 31|         243|        Real Madrid|       53|            La Liga|             7|         Belgium|          Left|        3|          1|                       5|Medium/Medium|NULL|    NULL|   NULL|     NULL|     NULL|  NULL|                85|                  89|                 76|                     90|                  93|               46|\n",
      "|       H. Kane|              ST|     90|       90| 29|          21| FC Bayern MÃ¼nchen|       19|         Bundesliga|            14|         England|         Right|        5|          3|                       5|    High/High|  69|      93|     84|       83|       49|    83|                 8|                  10|                 11|                     14|                  11|             NULL|\n",
      "|      Vini Jr.|              LW|     89|       94| 22|         243|        Real Madrid|       53|            La Liga|            54|          Brazil|         Right|        4|          5|                       5|    High/High|  95|      82|     78|       90|       29|    68|                 5|                   7|                  7|                      7|                  10|             NULL|\n",
      "|       Alisson|              GK|     89|       90| 30|           9|          Liverpool|       13|     Premier League|            54|          Brazil|         Right|        3|          1|                       5|Medium/Medium|NULL|    NULL|   NULL|     NULL|     NULL|  NULL|                86|                  85|                 85|                     90|                  89|               56|\n",
      "|         Rodri|         CDM, CM|     89|       90| 27|          10|    Manchester City|       13|     Premier League|            45|           Spain|         Right|        4|          3|                       4|  Medium/High|  58|      73|     80|       80|       85|    84|                10|                  10|                  7|                     14|                   8|             NULL|\n",
      "|   RÃºben Dias|              CB|     89|       90| 26|          10|    Manchester City|       13|     Premier League|            38|        Portugal|         Right|        4|          2|                       4|  Medium/High|  62|      39|     66|       69|       89|    87|                 7|                   8|                 13|                      7|                  12|             NULL|\n",
      "|     Neymar Jr|              LW|     89|       89| 31|         605|           Al Hilal|      350|         Pro League|            54|          Brazil|         Right|        5|          5|                       5|  High/Medium|  86|      83|     85|       93|       37|    61|                 9|                   9|                 15|                     15|                  11|             NULL|\n",
      "| M. ter Stegen|              GK|     89|       89| 31|         241|       FC Barcelona|       53|            La Liga|            21|         Germany|         Right|        4|          1|                       5|Medium/Medium|NULL|    NULL|   NULL|     NULL|     NULL|  NULL|                86|                  85|                 89|                     86|                  91|               47|\n",
      "|      Casemiro|             CDM|     89|       89| 31|          11|  Manchester United|       13|     Premier League|            54|          Brazil|         Right|        3|          2|                       4|  Medium/High|  63|      75|     79|       73|       89|    88|                13|                  14|                 16|                     12|                  12|             NULL|\n",
      "|   V. van Dijk|              CB|     89|       89| 31|           9|          Liverpool|       13|     Premier League|            34|     Netherlands|         Right|        3|          2|                       4|  Medium/High|  78|      60|     71|       72|       89|    86|                13|                  10|                 13|                     11|                  11|             NULL|\n",
      "|      M. Salah|              RW|     89|       89| 31|           9|          Liverpool|       13|     Premier League|           111|           Egypt|          Left|        3|          4|                       5|  High/Medium|  89|      87|     81|       88|       45|    76|                14|                  14|                  9|                     11|                  14|             NULL|\n",
      "|   F. Valverde|          CM, RW|     88|       92| 24|         243|        Real Madrid|       53|            La Liga|            60|         Uruguay|         Right|        4|          3|                       3|    High/High|  88|      82|     84|       84|       80|    82|                 6|                  10|                  6|                     15|                   8|             NULL|\n",
      "|    V. Osimhen|              ST|     88|       91| 24|          48|             Napoli|       31|            Serie A|           133|         Nigeria|         Right|        4|          3|                       3|  High/Medium|  90|      86|     66|       83|       42|    82|                14|                  14|                 10|                      9|                   6|             NULL|\n",
      "|       Ederson|              GK|     88|       89| 29|          10|    Manchester City|       13|     Premier League|            54|          Brazil|          Left|        3|          1|                       3|Medium/Medium|NULL|    NULL|   NULL|     NULL|     NULL|  NULL|                86|                  82|                 91|                     86|                  86|               64|\n",
      "+--------------+----------------+-------+---------+---+------------+-------------------+---------+-------------------+--------------+----------------+--------------+---------+-----------+------------------------+-------------+----+--------+-------+---------+---------+------+------------------+--------------------+-------------------+-----------------------+--------------------+-----------------+\n",
      "only showing top 20 rows\n",
      "\n"
     ]
    }
   ],
   "source": [
    "original_df.show()"
   ]
  },
  {
   "cell_type": "markdown",
   "id": "5911ba3c",
   "metadata": {},
   "source": [
    "Check datatype of attributes"
   ]
  },
  {
   "cell_type": "code",
   "execution_count": 12,
   "id": "b89c0404",
   "metadata": {},
   "outputs": [
    {
     "name": "stdout",
     "output_type": "stream",
     "text": [
      "short_name, string\n",
      "player_positions, string\n",
      "overall, string\n",
      "potential, string\n",
      "age, string\n",
      "club_team_id, string\n",
      "club_name, string\n",
      "league_id, string\n",
      "league_name, string\n",
      "nationality_id, string\n",
      "nationality_name, string\n",
      "preferred_foot, string\n",
      "weak_foot, string\n",
      "skill_moves, string\n",
      "international_reputation, string\n",
      "work_rate, string\n",
      "pace, string\n",
      "shooting, string\n",
      "passing, string\n",
      "dribbling, string\n",
      "defending, string\n",
      "physic, string\n",
      "goalkeeping_diving, string\n",
      "goalkeeping_handling, string\n",
      "goalkeeping_kicking, string\n",
      "goalkeeping_positioning, string\n",
      "goalkeeping_reflexes, string\n",
      "goalkeeping_speed, string\n"
     ]
    }
   ],
   "source": [
    "for dtype in original_df.dtypes:\n",
    "  print(f'{dtype[0]}, {dtype[1]}')"
   ]
  },
  {
   "cell_type": "code",
   "execution_count": 13,
   "id": "6821fbff",
   "metadata": {},
   "outputs": [
    {
     "name": "stdout",
     "output_type": "stream",
     "text": [
      "+--------------+----------------+-------+---------+---+------------+-------------------+---------+-------------------+--------------+----------------+--------------+---------+-----------+------------------------+-------------+----+--------+-------+---------+---------+------+------------------+--------------------+-------------------+-----------------------+--------------------+-----------------+\n",
      "|    short_name|player_positions|overall|potential|age|club_team_id|          club_name|league_id|        league_name|nationality_id|nationality_name|preferred_foot|weak_foot|skill_moves|international_reputation|    work_rate|pace|shooting|passing|dribbling|defending|physic|goalkeeping_diving|goalkeeping_handling|goalkeeping_kicking|goalkeeping_positioning|goalkeeping_reflexes|goalkeeping_speed|\n",
      "+--------------+----------------+-------+---------+---+------------+-------------------+---------+-------------------+--------------+----------------+--------------+---------+-----------+------------------------+-------------+----+--------+-------+---------+---------+------+------------------+--------------------+-------------------+-----------------------+--------------------+-----------------+\n",
      "|    K. MbappÃ©|          ST, LW|     91|       94| 24|          73|Paris Saint Germain|       16|            Ligue 1|            18|          France|         Right|        4|          5|                       5|     High/Low|  97|      90|     80|       92|       36|    78|                13|                   5|                  7|                     11|                   6|             NULL|\n",
      "|    E. Haaland|              ST|     91|       94| 22|          10|    Manchester City|       13|     Premier League|            36|          Norway|          Left|        3|          3|                       5|  High/Medium|  89|      93|     66|       80|       45|    88|                 7|                  14|                 13|                     11|                   7|             NULL|\n",
      "|  K. De Bruyne|         CM, CAM|     91|       91| 32|          10|    Manchester City|       13|     Premier League|             7|         Belgium|         Right|        5|          4|                       5|  High/Medium|  72|      88|     94|       87|       65|    78|                15|                  13|                  5|                     10|                  13|             NULL|\n",
      "|      L. Messi|         CF, CAM|     90|       90| 36|      112893|        Inter Miami|       39|Major League Soccer|            52|       Argentina|          Left|        4|          4|                       5|      Low/Low|  80|      87|     90|       94|       33|    64|                 6|                  11|                 15|                     14|                   8|             NULL|\n",
      "|    K. Benzema|          CF, ST|     90|       90| 35|         607|         Al Ittihad|      350|         Pro League|            18|          France|         Right|        4|          4|                       5|Medium/Medium|  79|      88|     83|       87|       39|    78|                13|                  11|                  5|                      5|                   7|             NULL|\n",
      "|R. Lewandowski|              ST|     90|       90| 34|         241|       FC Barcelona|       53|            La Liga|            37|          Poland|         Right|        4|          4|                       5|  High/Medium|  75|      91|     80|       87|       44|    84|                15|                   6|                 12|                      8|                  10|             NULL|\n",
      "|   T. Courtois|              GK|     90|       90| 31|         243|        Real Madrid|       53|            La Liga|             7|         Belgium|          Left|        3|          1|                       5|Medium/Medium|NULL|    NULL|   NULL|     NULL|     NULL|  NULL|                85|                  89|                 76|                     90|                  93|               46|\n",
      "|       H. Kane|              ST|     90|       90| 29|          21| FC Bayern MÃ¼nchen|       19|         Bundesliga|            14|         England|         Right|        5|          3|                       5|    High/High|  69|      93|     84|       83|       49|    83|                 8|                  10|                 11|                     14|                  11|             NULL|\n",
      "|      Vini Jr.|              LW|     89|       94| 22|         243|        Real Madrid|       53|            La Liga|            54|          Brazil|         Right|        4|          5|                       5|    High/High|  95|      82|     78|       90|       29|    68|                 5|                   7|                  7|                      7|                  10|             NULL|\n",
      "|       Alisson|              GK|     89|       90| 30|           9|          Liverpool|       13|     Premier League|            54|          Brazil|         Right|        3|          1|                       5|Medium/Medium|NULL|    NULL|   NULL|     NULL|     NULL|  NULL|                86|                  85|                 85|                     90|                  89|               56|\n",
      "|         Rodri|         CDM, CM|     89|       90| 27|          10|    Manchester City|       13|     Premier League|            45|           Spain|         Right|        4|          3|                       4|  Medium/High|  58|      73|     80|       80|       85|    84|                10|                  10|                  7|                     14|                   8|             NULL|\n",
      "|   RÃºben Dias|              CB|     89|       90| 26|          10|    Manchester City|       13|     Premier League|            38|        Portugal|         Right|        4|          2|                       4|  Medium/High|  62|      39|     66|       69|       89|    87|                 7|                   8|                 13|                      7|                  12|             NULL|\n",
      "|     Neymar Jr|              LW|     89|       89| 31|         605|           Al Hilal|      350|         Pro League|            54|          Brazil|         Right|        5|          5|                       5|  High/Medium|  86|      83|     85|       93|       37|    61|                 9|                   9|                 15|                     15|                  11|             NULL|\n",
      "| M. ter Stegen|              GK|     89|       89| 31|         241|       FC Barcelona|       53|            La Liga|            21|         Germany|         Right|        4|          1|                       5|Medium/Medium|NULL|    NULL|   NULL|     NULL|     NULL|  NULL|                86|                  85|                 89|                     86|                  91|               47|\n",
      "|      Casemiro|             CDM|     89|       89| 31|          11|  Manchester United|       13|     Premier League|            54|          Brazil|         Right|        3|          2|                       4|  Medium/High|  63|      75|     79|       73|       89|    88|                13|                  14|                 16|                     12|                  12|             NULL|\n",
      "|   V. van Dijk|              CB|     89|       89| 31|           9|          Liverpool|       13|     Premier League|            34|     Netherlands|         Right|        3|          2|                       4|  Medium/High|  78|      60|     71|       72|       89|    86|                13|                  10|                 13|                     11|                  11|             NULL|\n",
      "|      M. Salah|              RW|     89|       89| 31|           9|          Liverpool|       13|     Premier League|           111|           Egypt|          Left|        3|          4|                       5|  High/Medium|  89|      87|     81|       88|       45|    76|                14|                  14|                  9|                     11|                  14|             NULL|\n",
      "|   F. Valverde|          CM, RW|     88|       92| 24|         243|        Real Madrid|       53|            La Liga|            60|         Uruguay|         Right|        4|          3|                       3|    High/High|  88|      82|     84|       84|       80|    82|                 6|                  10|                  6|                     15|                   8|             NULL|\n",
      "|    V. Osimhen|              ST|     88|       91| 24|          48|             Napoli|       31|            Serie A|           133|         Nigeria|         Right|        4|          3|                       3|  High/Medium|  90|      86|     66|       83|       42|    82|                14|                  14|                 10|                      9|                   6|             NULL|\n",
      "|       Ederson|              GK|     88|       89| 29|          10|    Manchester City|       13|     Premier League|            54|          Brazil|          Left|        3|          1|                       3|Medium/Medium|NULL|    NULL|   NULL|     NULL|     NULL|  NULL|                86|                  82|                 91|                     86|                  86|               64|\n",
      "+--------------+----------------+-------+---------+---+------------+-------------------+---------+-------------------+--------------+----------------+--------------+---------+-----------+------------------------+-------------+----+--------+-------+---------+---------+------+------------------+--------------------+-------------------+-----------------------+--------------------+-----------------+\n",
      "only showing top 20 rows\n",
      "\n"
     ]
    }
   ],
   "source": [
    "from pyspark.sql.types import StringType, IntegerType\n",
    "\n",
    "fifa_df = original_df\n",
    "\n",
    "# List of columns to be converted to string type\n",
    "string_cols = [\"short_name\", \"player_positions\", \"club_name\", \"league_name\", \n",
    "         \"nationality_name\", \"preferred_foot\", \"work_rate\"]\n",
    "\n",
    "# Convert specified columns to string type\n",
    "for col in string_cols:\n",
    "  fifa_df = fifa_df.withColumn(col, fifa_df[col].cast(StringType()))\n",
    "\n",
    "# Get all column names\n",
    "all_cols = fifa_df.columns\n",
    "\n",
    "# List of columns to be converted to integer type\n",
    "int_cols = list(set(all_cols) - set(string_cols))\n",
    "\n",
    "# Convert the rest of the columns to integer type\n",
    "for col in int_cols:\n",
    "  fifa_df = fifa_df.withColumn(col, fifa_df[col].cast(IntegerType()))\n",
    "\n",
    "fifa_df.show()"
   ]
  },
  {
   "cell_type": "code",
   "execution_count": 14,
   "id": "6ed9a12e",
   "metadata": {},
   "outputs": [
    {
     "name": "stdout",
     "output_type": "stream",
     "text": [
      "short_name, string\n",
      "player_positions, string\n",
      "overall, int\n",
      "potential, int\n",
      "age, int\n",
      "club_team_id, int\n",
      "club_name, string\n",
      "league_id, int\n",
      "league_name, string\n",
      "nationality_id, int\n",
      "nationality_name, string\n",
      "preferred_foot, string\n",
      "weak_foot, int\n",
      "skill_moves, int\n",
      "international_reputation, int\n",
      "work_rate, string\n",
      "pace, int\n",
      "shooting, int\n",
      "passing, int\n",
      "dribbling, int\n",
      "defending, int\n",
      "physic, int\n",
      "goalkeeping_diving, int\n",
      "goalkeeping_handling, int\n",
      "goalkeeping_kicking, int\n",
      "goalkeeping_positioning, int\n",
      "goalkeeping_reflexes, int\n",
      "goalkeeping_speed, int\n"
     ]
    }
   ],
   "source": [
    "for dtype in fifa_df.dtypes:\n",
    "  print(f'{dtype[0]}, {dtype[1]}')"
   ]
  },
  {
   "cell_type": "markdown",
   "id": "65a99e62",
   "metadata": {},
   "source": [
    "1. Player Vesatility"
   ]
  },
  {
   "cell_type": "code",
   "execution_count": 35,
   "id": "bf5038c2",
   "metadata": {},
   "outputs": [],
   "source": [
    "from pyspark.sql.functions import size, split, when\n",
    "\n",
    "# Create a new DataFrame with 'short_name' and 'versatility'\n",
    "versatility_df = fifa_df.select(\n",
    "  \"short_name\",\n",
    "  when(size(split(col(\"player_positions\"), \",\")) - 1 >= 2, \"very versatile\")\n",
    "  .when(size(split(col(\"player_positions\"), \",\")) - 1 == 1, \"versatile\")\n",
    "  .otherwise(\"not versatile\")\n",
    "  .alias(\"versatility\")\n",
    ")"
   ]
  },
  {
   "cell_type": "code",
   "execution_count": 36,
   "id": "a733dbef",
   "metadata": {},
   "outputs": [
    {
     "name": "stdout",
     "output_type": "stream",
     "text": [
      "+---------------+--------------+\n",
      "|     short_name|   versatility|\n",
      "+---------------+--------------+\n",
      "|     K. MbappÃ©|     versatile|\n",
      "|     E. Haaland| not versatile|\n",
      "|   K. De Bruyne|     versatile|\n",
      "|       L. Messi|     versatile|\n",
      "|     K. Benzema|     versatile|\n",
      "| R. Lewandowski| not versatile|\n",
      "|    T. Courtois| not versatile|\n",
      "|        H. Kane| not versatile|\n",
      "|       Vini Jr.| not versatile|\n",
      "|        Alisson| not versatile|\n",
      "|          Rodri|     versatile|\n",
      "|    RÃºben Dias| not versatile|\n",
      "|      Neymar Jr| not versatile|\n",
      "|  M. ter Stegen| not versatile|\n",
      "|       Casemiro| not versatile|\n",
      "|    V. van Dijk| not versatile|\n",
      "|       M. Salah| not versatile|\n",
      "|    F. Valverde|     versatile|\n",
      "|     V. Osimhen| not versatile|\n",
      "|        Ederson| not versatile|\n",
      "|     J. Kimmich|very versatile|\n",
      "|   A. Griezmann|     versatile|\n",
      "|       J. Oblak| not versatile|\n",
      "|Bruno Fernandes|     versatile|\n",
      "| Bernardo Silva|     versatile|\n",
      "|   M. Ã˜degaard|     versatile|\n",
      "|     F. de Jong|     versatile|\n",
      "|  G. Donnarumma| not versatile|\n",
      "|   L. MartÃ­nez| not versatile|\n",
      "|       G. Kobel| not versatile|\n",
      "+---------------+--------------+\n",
      "only showing top 30 rows\n",
      "\n"
     ]
    }
   ],
   "source": [
    "versatility_df.show(30)"
   ]
  },
  {
   "cell_type": "markdown",
   "id": "5655a283",
   "metadata": {},
   "source": [
    "Exported CSV file"
   ]
  },
  {
   "cell_type": "code",
   "execution_count": null,
   "id": "9539261b-0edf-4428-8c3d-a43794baa25e",
   "metadata": {},
   "outputs": [],
   "source": [
    "versatility_df.write.csv(\"/home/karthi/Documents/Spark/file.csv\", header=True)"
   ]
  },
  {
   "cell_type": "markdown",
   "id": "e005964b",
   "metadata": {},
   "source": [
    "2. Highly talented youngster"
   ]
  },
  {
   "cell_type": "code",
   "execution_count": 20,
   "id": "cd6d96bb",
   "metadata": {},
   "outputs": [],
   "source": [
    "from pyspark.sql.functions import col\n",
    "\n",
    "# Create a new DataFrame with 'short_name', 'potential', and 'overall' where 'potential' > 80\n",
    "new_df = fifa_df.select(\"short_name\", \"potential\", \"overall\").where(col(\"potential\") > 80)"
   ]
  },
  {
   "cell_type": "code",
   "execution_count": 21,
   "id": "4dcac8e4",
   "metadata": {},
   "outputs": [
    {
     "name": "stdout",
     "output_type": "stream",
     "text": [
      "+--------------------------+\n",
      "|highly_talented_youngsters|\n",
      "+--------------------------+\n",
      "|                  Vini Jr.|\n",
      "|               F. Valverde|\n",
      "|                J. Musiala|\n",
      "|          K. Kvaratskhelia|\n",
      "|                     Pedri|\n",
      "|              Rafael LeÃ£o|\n",
      "|             J. Bellingham|\n",
      "|                 R. Araujo|\n",
      "|                   B. Saka|\n",
      "|                   Rodrygo|\n",
      "|                  F. Wirtz|\n",
      "|             T. HernÃ¡ndez|\n",
      "|                A. Bastoni|\n",
      "|                  P. Foden|\n",
      "|                J. KoundÃ©|\n",
      "|            A. TchouamÃ©ni|\n",
      "|               I. Bennacer|\n",
      "|                 F. Tomori|\n",
      "|                  M. Diaby|\n",
      "|        Gabriel Martinelli|\n",
      "+--------------------------+\n",
      "only showing top 20 rows\n",
      "\n"
     ]
    }
   ],
   "source": [
    "# new_df.show()\n",
    "\n",
    "filtered_df = new_df.filter(col(\"potential\") - col(\"overall\") > 3).select(\"short_name\").withColumnRenamed(\"short_name\", \"highly_talented_youngsters\")\n",
    "filtered_df.show()"
   ]
  },
  {
   "cell_type": "markdown",
   "id": "88168273",
   "metadata": {},
   "source": [
    "3. Ranking Players based on Ability on all aspects of the game ( top 500 )    "
   ]
  },
  {
   "cell_type": "code",
   "execution_count": 22,
   "id": "3a954f0c",
   "metadata": {},
   "outputs": [
    {
     "name": "stdout",
     "output_type": "stream",
     "text": [
      "+--------------------+-----------------+\n",
      "|          short_name|    ability_score|\n",
      "+--------------------+-----------------+\n",
      "|         F. Valverde|83.33333333333333|\n",
      "|         L. Goretzka|             81.5|\n",
      "|           S. Tonali|             81.0|\n",
      "|     Marcos Llorente|80.83333333333333|\n",
      "|        K. De Bruyne|80.66666666666667|\n",
      "|       T. HernÃ¡ndez|             80.5|\n",
      "|              E. Can|80.33333333333333|\n",
      "|          N. Barella|80.16666666666667|\n",
      "|           A. Rabiot|             80.0|\n",
      "|           M. AcuÃ±a|             80.0|\n",
      "|           A. Hakimi|             80.0|\n",
      "|            R. James|             80.0|\n",
      "|          F. de Jong|79.83333333333333|\n",
      "|       J. Bellingham|79.83333333333333|\n",
      "|        Mikel Merino|79.83333333333333|\n",
      "|          R. De Paul|79.66666666666667|\n",
      "|          J. Kimmich|             79.5|\n",
      "|S. MilinkoviÄ‡-Sa...|             79.5|\n",
      "|     Bruno Fernandes|79.33333333333333|\n",
      "|        A. Griezmann|79.33333333333333|\n",
      "+--------------------+-----------------+\n",
      "only showing top 20 rows\n",
      "\n"
     ]
    }
   ],
   "source": [
    "from pyspark.sql.functions import col, avg\n",
    "\n",
    "new1_df = fifa_df\n",
    "\n",
    "# Calculate the average of the specified columns\n",
    "new1_df = fifa_df.withColumn(\n",
    "  \"ability_score\",\n",
    "  (col(\"pace\") + col(\"shooting\") + col(\"dribbling\") + col(\"passing\") + col(\"defending\") + col(\"physic\")) / 6\n",
    ")\n",
    "\n",
    "# Create a new DataFrame with 'short_name' and 'ability_score'\n",
    "new1_df = new1_df.select(\"short_name\", \"ability_score\")\n",
    "\n",
    "# Rank the records in descending order of 'ability_score'\n",
    "ranked_df = new1_df.orderBy(col(\"ability_score\").desc())\n",
    "\n",
    "\n",
    "ranked_df.show()"
   ]
  },
  {
   "cell_type": "markdown",
   "id": "3a38cf4c",
   "metadata": {},
   "source": [
    "4. Average overall on each age range"
   ]
  },
  {
   "cell_type": "code",
   "execution_count": 23,
   "id": "f8d11c31",
   "metadata": {},
   "outputs": [
    {
     "name": "stdout",
     "output_type": "stream",
     "text": [
      "Average overall score of young players: 62.94553672316384\n",
      "Average overall score of mid-aged players: 68.39448051948052\n",
      "Average overall score of old players: 69.02387448840382\n"
     ]
    }
   ],
   "source": [
    "from pyspark.sql.functions import avg\n",
    "\n",
    "# Filter the DataFrame based on the age range and calculate the average 'overall' score\n",
    "average_overall_young = fifa_df.filter((col(\"age\") >= 16) & (col(\"age\") <= 24)).agg(avg(\"overall\")).first()[0]\n",
    "average_overall_mid = fifa_df.filter((col(\"age\") >= 25) & (col(\"age\") <= 32)).agg(avg(\"overall\")).first()[0]\n",
    "average_overall_old = fifa_df.filter((col(\"age\") >= 33) & (col(\"age\") <= 39)).agg(avg(\"overall\")).first()[0]\n",
    "\n",
    "print(f'Average overall score of young players: {average_overall_young}')\n",
    "print(f'Average overall score of mid-aged players: {average_overall_mid}')\n",
    "print(f'Average overall score of old players: {average_overall_old}')"
   ]
  },
  {
   "cell_type": "code",
   "execution_count": null,
   "id": "afe65545",
   "metadata": {},
   "outputs": [],
   "source": []
  },
  {
   "cell_type": "code",
   "execution_count": 24,
   "id": "eedb0b6d",
   "metadata": {},
   "outputs": [
    {
     "name": "stderr",
     "output_type": "stream",
     "text": [
      "24/04/14 22:49:03 WARN SparkSession: Using an existing Spark session; only runtime SQL configurations will take effect.\n"
     ]
    }
   ],
   "source": [
    "from pyspark.sql import SparkSession\n",
    "\n",
    "spark = SparkSession.builder \\\n",
    "  .appName(\"Football Analytics\") \\\n",
    "  .config(\"spark.driver.memory\", \"4g\") \\\n",
    "  .getOrCreate()"
   ]
  },
  {
   "cell_type": "code",
   "execution_count": 25,
   "id": "4c3e3238",
   "metadata": {},
   "outputs": [],
   "source": [
    "from pyspark.sql.functions import col\n",
    "\n",
    "# List of club names\n",
    "clubs = [\"Paris Saint Germain\", \"Manchester City\", \"FC Barcelona\", \"Real Madrid\", \n",
    "     \"FC Bayern MÃ¼nchen\", \"AtlÃ©tico Madrid\", \"Arsenal\", \"Borussia Dortmund\"]\n",
    "\n",
    "# Create a new DataFrame with players from the specified clubs\n",
    "league_df = fifa_df.filter(col(\"club_name\").isin(clubs)).select(\"short_name\", \"club_name\", \"overall\")"
   ]
  },
  {
   "cell_type": "code",
   "execution_count": 26,
   "id": "cdcf1fb2",
   "metadata": {},
   "outputs": [
    {
     "name": "stdout",
     "output_type": "stream",
     "text": [
      "+--------------+-------------------+-------+\n",
      "|    short_name|          club_name|overall|\n",
      "+--------------+-------------------+-------+\n",
      "|    K. MbappÃ©|Paris Saint Germain|     91|\n",
      "|    E. Haaland|    Manchester City|     91|\n",
      "|  K. De Bruyne|    Manchester City|     91|\n",
      "|R. Lewandowski|       FC Barcelona|     90|\n",
      "|   T. Courtois|        Real Madrid|     90|\n",
      "|       H. Kane| FC Bayern MÃ¼nchen|     90|\n",
      "|      Vini Jr.|        Real Madrid|     89|\n",
      "|         Rodri|    Manchester City|     89|\n",
      "|   RÃºben Dias|    Manchester City|     89|\n",
      "| M. ter Stegen|       FC Barcelona|     89|\n",
      "|   F. Valverde|        Real Madrid|     88|\n",
      "|       Ederson|    Manchester City|     88|\n",
      "|    J. Kimmich| FC Bayern MÃ¼nchen|     88|\n",
      "|  A. Griezmann|   AtlÃ©tico Madrid|     88|\n",
      "|      J. Oblak|   AtlÃ©tico Madrid|     88|\n",
      "|Bernardo Silva|    Manchester City|     88|\n",
      "|  M. Ã˜degaard|            Arsenal|     87|\n",
      "|    F. de Jong|       FC Barcelona|     87|\n",
      "| G. Donnarumma|Paris Saint Germain|     87|\n",
      "|      G. Kobel|  Borussia Dortmund|     87|\n",
      "+--------------+-------------------+-------+\n",
      "only showing top 20 rows\n",
      "\n"
     ]
    }
   ],
   "source": [
    "league_df.show()"
   ]
  },
  {
   "cell_type": "code",
   "execution_count": 27,
   "id": "92345457",
   "metadata": {},
   "outputs": [
    {
     "name": "stdout",
     "output_type": "stream",
     "text": [
      "243\n"
     ]
    }
   ],
   "source": [
    "record_count = league_df.count()\n",
    "print(record_count)"
   ]
  },
  {
   "cell_type": "markdown",
   "id": "3d9d270a",
   "metadata": {},
   "source": [
    "5. Top 10 Players of each clubs"
   ]
  },
  {
   "cell_type": "code",
   "execution_count": 28,
   "id": "e306056b",
   "metadata": {},
   "outputs": [],
   "source": [
    "from pyspark.sql.functions import col, desc\n",
    "\n",
    "def get_top_players(club_name, suggested_name):\n",
    "    # Filter the DataFrame based on the club name and select the top 10 players based on 'overall' score\n",
    "    top_players_df = fifa_df.filter(col(\"club_name\") == club_name).orderBy(desc(\"overall\")).limit(10).select(\n",
    "      \"short_name\").withColumnRenamed(\"short_name\", suggested_name)\n",
    "    return top_players_df\n",
    "\n",
    "# clubs = [\"Paris Saint Germain\", \"Manchester City\", \"FC Barcelona\", \"Real Madrid\", \n",
    "#          \"FC Bayern MÃ¼nchen\", \"AtlÃ©tico Madrid\", \"Arsenal\", \"Borussia Dortmund\"]\n",
    "\n",
    "paris_df = get_top_players(\"Paris Saint Germain\", \"Paris Saint Germain\")\n",
    "manchester_df = get_top_players(\"Manchester City\", \"Manchester City\")\n",
    "barcelona_df = get_top_players(\"FC Barcelona\", \"FC Barcelona\")\n",
    "madrid_df = get_top_players(\"Real Madrid\", \"Real Madrid\")\n",
    "bayern_df = get_top_players(\"FC Bayern MÃ¼nchen\", \"FC Bayern Munchen\")\n",
    "atletico_df = get_top_players(\"AtlÃ©tico Madrid\", \"Atletico Madrid\")\n",
    "arsenal_df = get_top_players(\"Arsenal\", \"Arsenal\")\n",
    "dortmund_df = get_top_players(\"Borussia Dortmund\", \"Borussia Dortmund\")\n"
   ]
  },
  {
   "cell_type": "code",
   "execution_count": 29,
   "id": "e963b0fb",
   "metadata": {},
   "outputs": [
    {
     "name": "stdout",
     "output_type": "stream",
     "text": [
      "+----+-------------------+---------------+--------------+--------------+-----------------+---------------+------------------+-----------------+\n",
      "|rank|Paris Saint Germain|Manchester City|  FC Barcelona|   Real Madrid|FC Bayern Munchen|Atletico Madrid|           Arsenal|Borussia Dortmund|\n",
      "+----+-------------------+---------------+--------------+--------------+-----------------+---------------+------------------+-----------------+\n",
      "|   1|         K. MbappÃ©|     E. Haaland|R. Lewandowski|   T. Courtois|          H. Kane|   A. Griezmann|      M. Ã˜degaard|         G. Kobel|\n",
      "|   2|      G. Donnarumma|   K. De Bruyne| M. ter Stegen|      Vini Jr.|       J. Kimmich|       J. Oblak|           B. Saka|         N. SÃ¼le|\n",
      "|   3|         Marquinhos|          Rodri|    F. de Jong|   F. Valverde|         M. Neuer|           Koke|           D. Rice|        J. Brandt|\n",
      "|   4|       O. DembÃ©lÃ©|    RÃºben Dias|         Pedri|    L. ModriÄ‡|       J. Musiala|       M. Depay|         T. Partey| N. Schlotterbeck|\n",
      "|   5|           K. Navas|        Ederson|     R. Araujo| J. Bellingham|       M. de Ligt|     R. De Paul|Gabriel Martinelli|       M. Hummels|\n",
      "|   6|      R. Kolo Muani| Bernardo Silva|Ä°. GÃ¼ndoÄŸan|Ã‰der MilitÃ£o|      L. Goretzka|Marcos Llorente|       A. Ramsdale|          M. Reus|\n",
      "|   7|          A. Hakimi|       P. Foden| JoÃ£o Cancelo|      T. Kroos|         K. Coman|    J. GimÃ©nez|           Gabriel|        S. Haller|\n",
      "|   8|      L. HernÃ¡ndez|      J. Stones|    J. KoundÃ©|       Rodrygo|      Kim Min Jae|         Morata|     Gabriel Jesus|           E. Can|\n",
      "|   9|       M. Å kriniar|    J. Grealish|      Raphinha|      D. Alaba|       T. MÃ¼ller|      N. Molina|         W. Saliba|         D. Malen|\n",
      "|  10|      Marco Asensio|      K. Walker|          Gavi|   A. RÃ¼diger|        S. Gnabry|       T. Lemar|          Jorginho|       K. Adeyemi|\n",
      "+----+-------------------+---------------+--------------+--------------+-----------------+---------------+------------------+-----------------+\n",
      "\n"
     ]
    }
   ],
   "source": [
    "from pyspark.sql.functions import monotonically_increasing_id\n",
    "\n",
    "# Add a common column 'id' to each DataFrame\n",
    "paris_df = paris_df.withColumn(\"rank\", monotonically_increasing_id() + 1)\n",
    "manchester_df = manchester_df.withColumn(\"rank\", monotonically_increasing_id() + 1)\n",
    "barcelona_df = barcelona_df.withColumn(\"rank\", monotonically_increasing_id() + 1)\n",
    "madrid_df = madrid_df.withColumn(\"rank\", monotonically_increasing_id() + 1)\n",
    "bayern_df = bayern_df.withColumn(\"rank\", monotonically_increasing_id() + 1)\n",
    "atletico_df = atletico_df.withColumn(\"rank\", monotonically_increasing_id() + 1)\n",
    "arsenal_df = arsenal_df.withColumn(\"rank\", monotonically_increasing_id() + 1)\n",
    "dortmund_df = dortmund_df.withColumn(\"rank\", monotonically_increasing_id() + 1)\n",
    "\n",
    "# Join the DataFrames on the 'id' column\n",
    "joined_df = paris_df.join(manchester_df, \"rank\", \"outer\") \\\n",
    "  .join(barcelona_df, \"rank\", \"outer\") \\\n",
    "  .join(madrid_df, \"rank\", \"outer\") \\\n",
    "  .join(bayern_df, \"rank\", \"outer\") \\\n",
    "  .join(atletico_df, \"rank\", \"outer\") \\\n",
    "  .join(arsenal_df, \"rank\", \"outer\") \\\n",
    "  .join(dortmund_df, \"rank\", \"outer\")\n",
    "\n",
    "# Show the DataFrame\n",
    "joined_df.show()"
   ]
  },
  {
   "cell_type": "code",
   "execution_count": 30,
   "id": "459a106b",
   "metadata": {},
   "outputs": [
    {
     "name": "stdout",
     "output_type": "stream",
     "text": [
      "+--------------+-------------------+-------+\n",
      "|    short_name|        league_name|overall|\n",
      "+--------------+-------------------+-------+\n",
      "|    K. MbappÃ©|            Ligue 1|     91|\n",
      "|    E. Haaland|     Premier League|     91|\n",
      "|  K. De Bruyne|     Premier League|     91|\n",
      "|      L. Messi|Major League Soccer|     90|\n",
      "|    K. Benzema|         Pro League|     90|\n",
      "|R. Lewandowski|            La Liga|     90|\n",
      "|   T. Courtois|            La Liga|     90|\n",
      "|       H. Kane|         Bundesliga|     90|\n",
      "|      Vini Jr.|            La Liga|     89|\n",
      "|       Alisson|     Premier League|     89|\n",
      "|         Rodri|     Premier League|     89|\n",
      "|   RÃºben Dias|     Premier League|     89|\n",
      "|     Neymar Jr|         Pro League|     89|\n",
      "| M. ter Stegen|            La Liga|     89|\n",
      "|      Casemiro|     Premier League|     89|\n",
      "|   V. van Dijk|     Premier League|     89|\n",
      "|      M. Salah|     Premier League|     89|\n",
      "|   F. Valverde|            La Liga|     88|\n",
      "|    V. Osimhen|            Serie A|     88|\n",
      "|       Ederson|     Premier League|     88|\n",
      "+--------------+-------------------+-------+\n",
      "only showing top 20 rows\n",
      "\n"
     ]
    },
    {
     "data": {
      "text/plain": [
       "200"
      ]
     },
     "execution_count": 30,
     "metadata": {},
     "output_type": "execute_result"
    }
   ],
   "source": [
    "\n",
    "league_rank_df = fifa_df.select(\"short_name\", \"league_name\", \"overall\").orderBy(desc(\"overall\")).limit(200)\n",
    "league_rank_df.show()\n",
    "league_rank_df.count()"
   ]
  },
  {
   "cell_type": "markdown",
   "id": "4a61fb6b",
   "metadata": {},
   "source": [
    "6. League ranking with top 200 Players"
   ]
  },
  {
   "cell_type": "code",
   "execution_count": 34,
   "id": "0643a1bc",
   "metadata": {},
   "outputs": [
    {
     "name": "stdout",
     "output_type": "stream",
     "text": [
      "+-------------------+-----------------+\n",
      "|        league_name|number_of_players|\n",
      "+-------------------+-----------------+\n",
      "|     Premier League|               55|\n",
      "|            La Liga|               45|\n",
      "|            Serie A|               35|\n",
      "|         Bundesliga|               32|\n",
      "|         Pro League|               14|\n",
      "|            Ligue 1|               12|\n",
      "|Major League Soccer|                3|\n",
      "|      Liga Portugal|                3|\n",
      "|          Super Lig|                1|\n",
      "+-------------------+-----------------+\n",
      "\n"
     ]
    }
   ],
   "source": [
    "from pyspark.sql.functions import col\n",
    "\n",
    "# Create a new DataFrame with distinct league names and the number of players in each league\n",
    "rleague_df = league_rank_df.groupBy(\"league_name\").count().withColumnRenamed(\"count\", \"number_of_players\").orderBy(desc(\"count\"))\n",
    "\n",
    "# Show the DataFrame\n",
    "rleague_df.show()"
   ]
  },
  {
   "cell_type": "code",
   "execution_count": 37,
   "id": "28111a96",
   "metadata": {},
   "outputs": [
    {
     "name": "stdout",
     "output_type": "stream",
     "text": [
      "+----------------+--------------+-------+\n",
      "|player_positions|    short_name|overall|\n",
      "+----------------+--------------+-------+\n",
      "|              ST|    K. MbappÃ©|     91|\n",
      "|              ST|    E. Haaland|     91|\n",
      "|              CM|  K. De Bruyne|     91|\n",
      "|              CF|      L. Messi|     90|\n",
      "|              CF|    K. Benzema|     90|\n",
      "|              ST|R. Lewandowski|     90|\n",
      "|              GK|   T. Courtois|     90|\n",
      "|              ST|       H. Kane|     90|\n",
      "|              LW|      Vini Jr.|     89|\n",
      "|              GK|       Alisson|     89|\n",
      "|             CDM|         Rodri|     89|\n",
      "|              CB|   RÃºben Dias|     89|\n",
      "|              LW|     Neymar Jr|     89|\n",
      "|              GK| M. ter Stegen|     89|\n",
      "|             CDM|      Casemiro|     89|\n",
      "|              CB|   V. van Dijk|     89|\n",
      "|              RW|      M. Salah|     89|\n",
      "|              CM|   F. Valverde|     88|\n",
      "|              ST|    V. Osimhen|     88|\n",
      "|              GK|       Ederson|     88|\n",
      "+----------------+--------------+-------+\n",
      "only showing top 20 rows\n",
      "\n"
     ]
    }
   ],
   "source": [
    "from pyspark.sql.functions import split, col\n",
    "\n",
    "# Create a new DataFrame with 'player_positions', 'short_name', and 'overall'\n",
    "new_df = fifa_df.select(\n",
    "  split(col(\"player_positions\"), \",\")[0].alias(\"player_positions\"),\n",
    "  \"short_name\",\n",
    "  \"overall\"\n",
    ")\n",
    "\n",
    "new_df.show()"
   ]
  },
  {
   "cell_type": "markdown",
   "id": "62c6a4c9",
   "metadata": {},
   "source": [
    "7. Top 3 rated players in each position  "
   ]
  },
  {
   "cell_type": "code",
   "execution_count": 40,
   "id": "672b320b",
   "metadata": {},
   "outputs": [
    {
     "name": "stdout",
     "output_type": "stream",
     "text": [
      "+----------------+---------------+-------+\n",
      "|player_positions|     short_name|overall|\n",
      "+----------------+---------------+-------+\n",
      "|             CAM|Bruno Fernandes|     88|\n",
      "|             CAM|   M. Ã˜degaard|     87|\n",
      "|             CAM|     J. Musiala|     86|\n",
      "|              CB|    RÃºben Dias|     89|\n",
      "|              CB|    V. van Dijk|     89|\n",
      "|              CB|     Marquinhos|     87|\n",
      "|             CDM|          Rodri|     89|\n",
      "|             CDM|       Casemiro|     89|\n",
      "|             CDM|     J. Kimmich|     88|\n",
      "|              CF|       L. Messi|     90|\n",
      "|              CF|     K. Benzema|     90|\n",
      "|              CF|      C. Nkunku|     86|\n",
      "|              CM|   K. De Bruyne|     91|\n",
      "|              CM|    F. Valverde|     88|\n",
      "|              CM| Bernardo Silva|     88|\n",
      "|              GK|    T. Courtois|     90|\n",
      "|              GK|        Alisson|     89|\n",
      "|              GK|  M. ter Stegen|     89|\n",
      "|              LB|  JoÃ£o Cancelo|     86|\n",
      "|              LB|   A. Robertson|     86|\n",
      "+----------------+---------------+-------+\n",
      "only showing top 20 rows\n",
      "\n"
     ]
    },
    {
     "data": {
      "text/plain": [
       "45"
      ]
     },
     "execution_count": 40,
     "metadata": {},
     "output_type": "execute_result"
    }
   ],
   "source": [
    "from pyspark.sql.window import Window\n",
    "from pyspark.sql.functions import row_number, desc\n",
    "\n",
    "# Define a Window partitioned by 'player_positions', ordered by 'overall' in descending order\n",
    "window = Window.partitionBy(\"player_positions\").orderBy(desc(\"overall\"))\n",
    "\n",
    "# Add a row number within each Window partition\n",
    "new_df = new_df.withColumn(\"row_number\", row_number().over(window))\n",
    "\n",
    "# Filter to keep only the top 3 players for each position\n",
    "top_players_df = new_df.filter(col(\"row_number\") <= 3).select(\"player_positions\", \"short_name\", \"overall\")\n",
    "\n",
    "# Show the DataFrame\n",
    "top_players_df.show()\n",
    "top_players_df.count()"
   ]
  },
  {
   "cell_type": "code",
   "execution_count": 42,
   "id": "7202a06a",
   "metadata": {},
   "outputs": [],
   "source": [
    "top_players_df.write.csv(\"/home/karthi/Documents/Spark/top_player.csv\", header=True)"
   ]
  }
 ],
 "metadata": {
  "kernelspec": {
   "display_name": "Python 3 (ipykernel)",
   "language": "python",
   "name": "python3"
  },
  "language_info": {
   "codemirror_mode": {
    "name": "ipython",
    "version": 3
   },
   "file_extension": ".py",
   "mimetype": "text/x-python",
   "name": "python",
   "nbconvert_exporter": "python",
   "pygments_lexer": "ipython3",
   "version": "3.10.14"
  }
 },
 "nbformat": 4,
 "nbformat_minor": 5
}
